{
 "cells": [
  {
   "cell_type": "code",
   "execution_count": 1,
   "metadata": {},
   "outputs": [],
   "source": [
    "#imports\n",
    "import pyvisa\n",
    "import numpy as np\n",
    "import time\n",
    "import ipywidgets as wg\n",
    "from IPython.display import display"
   ]
  },
  {
   "cell_type": "code",
   "execution_count": 2,
   "metadata": {},
   "outputs": [],
   "source": [
    "#Functions\n",
    "def load_primary_waveform(Sample_Rate,VPP,Offset):\n",
    "    rigol.write(f\":SOUR1:APPL:ARB {Sample_Rate},{VPP},{Offset}\")\n",
    "    rigol.write(send_wave_primary)\n",
    "    rigol.write(\":SOUR1:BURSt:STATe ON\")\n",
    "    rigol.write(\":SOUR1:BURSt:MODE TRIGgered\")\n",
    "    rigol.write(\":SOUR1:BURSt:NCYCles 1\")\n",
    "    rigol.write(\":SOUR1:BURSt:TRIGger:SOURce MANual\")\n",
    "    rigol.write(\":SOUR1:BURSt:IDLE BOTTOM\")\n",
    "\n",
    "def load_return_waveform(Sample_Rate,VPP,Offset):\n",
    "    rigol.write(f\":SOUR1:APPL:ARB {Sample_Rate},{VPP},{Offset}\")\n",
    "    rigol.write(send_wave_return)\n",
    "    rigol.write(\":SOUR1:BURSt:STATe ON\")\n",
    "    rigol.write(\":SOUR1:BURSt:MODE TRIGgered\")\n",
    "    rigol.write(\":SOUR1:BURSt:NCYCles 1\")\n",
    "    rigol.write(\":SOUR1:BURSt:TRIGger:SOURce MANual\")\n",
    "    rigol.write(\":SOUR1:BURSt:IDLE TOP\")\n",
    "\n",
    "def trigger_descending_wave(click):\n",
    "    if rigol.query(':SOUR1:BURST:IDLE?') != \"TOP\":\n",
    "        raise ValueError(\"Wave cannot descend as voltage is not at maximum\")\n",
    "        return\n",
    "    load_primary_waveform(5000,int(max_voltage.value),(int(max_voltage.value)/2))\n",
    "    time.sleep(3)\n",
    "    rigol.write(\":SOUR1:BURST:TRIG\")\n",
    "\n",
    "def trigger_ascending_wave(click):\n",
    "    if rigol.query(':SOUR1:BURST:IDLE?') != \"BOTTOM\":\n",
    "        raise ValueError(\"Wave cannot ascend as voltage is not at minimum\")\n",
    "        return\n",
    "    load_return_waveform(5000,int(max_voltage.value),0)\n",
    "    time.sleep(3)\n",
    "    rigol.write(\":SOUR1:BURST:TRIG\")\n",
    "    \n",
    "def initialize_bottom(click):\n",
    "    load_return_waveform(5000,int(max_voltage.value),0)"
   ]
  },
  {
   "cell_type": "code",
   "execution_count": 3,
   "metadata": {},
   "outputs": [
    {
     "data": {
      "application/vnd.jupyter.widget-view+json": {
       "model_id": "f3f5ecc095504c2f83f59e2f842f60d5",
       "version_major": 2,
       "version_minor": 0
      },
      "text/plain": [
       "Text(value='Frequency')"
      ]
     },
     "metadata": {},
     "output_type": "display_data"
    },
    {
     "data": {
      "application/vnd.jupyter.widget-view+json": {
       "model_id": "188f31cd82c54fdeaf630942dedaf674",
       "version_major": 2,
       "version_minor": 0
      },
      "text/plain": [
       "Text(value='Time Length of Waveform')"
      ]
     },
     "metadata": {},
     "output_type": "display_data"
    },
    {
     "data": {
      "application/vnd.jupyter.widget-view+json": {
       "model_id": "c42a8ddb0d1a4d7284b3b4265f65bec7",
       "version_major": 2,
       "version_minor": 0
      },
      "text/plain": [
       "Text(value='Number of Decimals')"
      ]
     },
     "metadata": {},
     "output_type": "display_data"
    },
    {
     "data": {
      "application/vnd.jupyter.widget-view+json": {
       "model_id": "32fac3fea41c4525ad9e4b4ea724af9c",
       "version_major": 2,
       "version_minor": 0
      },
      "text/plain": [
       "Text(value='Ampltiude')"
      ]
     },
     "metadata": {},
     "output_type": "display_data"
    },
    {
     "data": {
      "application/vnd.jupyter.widget-view+json": {
       "model_id": "46bd6f42200346a1ae57f452d9b9956d",
       "version_major": 2,
       "version_minor": 0
      },
      "text/plain": [
       "Text(value='Number of Points in Waveform')"
      ]
     },
     "metadata": {},
     "output_type": "display_data"
    },
    {
     "data": {
      "application/vnd.jupyter.widget-view+json": {
       "model_id": "450b56b444804927b1350125effaacee",
       "version_major": 2,
       "version_minor": 0
      },
      "text/plain": [
       "Text(value='Maximum waveform voltage')"
      ]
     },
     "metadata": {},
     "output_type": "display_data"
    }
   ],
   "source": [
    "#User inputs\n",
    "frequency = wg.Text(value = \"Frequency\")\n",
    "display(frequency)\n",
    "time_length = wg.Text(value = \"Time Length of Waveform\")\n",
    "display(time_length)\n",
    "decimals= wg.Text(value = \"Number of Decimals\")\n",
    "display(decimals)\n",
    "amplitude = wg.Text(value = \"Ampltiude\")\n",
    "display(amplitude)\n",
    "num_points = wg.Text(value = \"Number of Points in Waveform\")\n",
    "display(num_points)\n",
    "max_voltage = wg.Text(value = \"Maximum waveform voltage\")\n",
    "display(max_voltage)"
   ]
  },
  {
   "cell_type": "code",
   "execution_count": 4,
   "metadata": {},
   "outputs": [
    {
     "name": "stdout",
     "output_type": "stream",
     "text": [
      "('USB0::0x1AB1::0x0642::DG1ZA221601025::INSTR',)\n",
      "Rigol Technologies,DG1022Z,DG1ZA221601025,03.01.12  \n",
      "\n"
     ]
    }
   ],
   "source": [
    "#establish connection with instrument\n",
    "rm = pyvisa.ResourceManager()\n",
    "print(rm.list_resources())\n",
    "rigol = rm.open_resource('USB0::0x1AB1::0x0642::DG1ZA221601025::INSTR')\n",
    "print(rigol.query('*IDN?'))\n",
    "rigol.read_termination = '\\n'\n",
    "rigol.write_termination = '\\n'"
   ]
  },
  {
   "cell_type": "code",
   "execution_count": 5,
   "metadata": {},
   "outputs": [],
   "source": [
    "# inputs for primary waveform\n",
    "# frequency = 250           # frequency(Hz)\n",
    "# time_length = 10           # total time of the waveform (s)\n",
    "# decimals = 3              # number of decimal places to keep in the waveform\n",
    "# amplitude = 1            # amplitude (V)\n",
    "# num_points = 201          # number of points to put in the waveform"
   ]
  },
  {
   "cell_type": "code",
   "execution_count": 6,
   "metadata": {},
   "outputs": [],
   "source": [
    "# inputs for return waveform\n",
    "# frequency_return = 250         # frequency(Hz)\n",
    "# time_length = 10           # total time of the waveform (s)\n",
    "# decimals = 3              # number of decimal places to keep in the waveform\n",
    "# amplitude = 1            # amplitude (V)\n",
    "# num_points = 201          # number of points to put in the waveform"
   ]
  },
  {
   "cell_type": "code",
   "execution_count": 7,
   "metadata": {},
   "outputs": [
    {
     "ename": "ValueError",
     "evalue": "invalid literal for int() with base 10: 'Number of Points in Waveform'",
     "output_type": "error",
     "traceback": [
      "\u001b[1;31m---------------------------------------------------------------------------\u001b[0m",
      "\u001b[1;31mValueError\u001b[0m                                Traceback (most recent call last)",
      "\u001b[1;32m<ipython-input-7-6a18b507f8ca>\u001b[0m in \u001b[0;36m<module>\u001b[1;34m\u001b[0m\n\u001b[0;32m      3\u001b[0m \u001b[1;31m# t_primary = t_primary/((num_points-1)/time_length)\u001b[0m\u001b[1;33m\u001b[0m\u001b[1;33m\u001b[0m\u001b[1;33m\u001b[0m\u001b[0m\n\u001b[0;32m      4\u001b[0m \u001b[1;33m\u001b[0m\u001b[0m\n\u001b[1;32m----> 5\u001b[1;33m \u001b[0mt\u001b[0m \u001b[1;33m=\u001b[0m \u001b[0mnp\u001b[0m\u001b[1;33m.\u001b[0m\u001b[0marray\u001b[0m\u001b[1;33m(\u001b[0m\u001b[0mlist\u001b[0m\u001b[1;33m(\u001b[0m\u001b[0mrange\u001b[0m\u001b[1;33m(\u001b[0m\u001b[0mint\u001b[0m\u001b[1;33m(\u001b[0m\u001b[0mnum_points\u001b[0m\u001b[1;33m.\u001b[0m\u001b[0mvalue\u001b[0m\u001b[1;33m)\u001b[0m\u001b[1;33m)\u001b[0m\u001b[1;33m)\u001b[0m\u001b[1;33m)\u001b[0m\u001b[1;33m\u001b[0m\u001b[1;33m\u001b[0m\u001b[0m\n\u001b[0m\u001b[0;32m      6\u001b[0m \u001b[0mt\u001b[0m \u001b[1;33m=\u001b[0m \u001b[0mt\u001b[0m\u001b[1;33m/\u001b[0m\u001b[1;33m(\u001b[0m\u001b[1;33m(\u001b[0m\u001b[0mint\u001b[0m\u001b[1;33m(\u001b[0m\u001b[0mnum_points\u001b[0m\u001b[1;33m.\u001b[0m\u001b[0mvalue\u001b[0m\u001b[1;33m)\u001b[0m\u001b[1;33m-\u001b[0m\u001b[1;36m1\u001b[0m\u001b[1;33m)\u001b[0m\u001b[1;33m/\u001b[0m\u001b[0mint\u001b[0m\u001b[1;33m(\u001b[0m\u001b[0mtime_length\u001b[0m\u001b[1;33m.\u001b[0m\u001b[0mvalue\u001b[0m\u001b[1;33m)\u001b[0m\u001b[1;33m)\u001b[0m\u001b[1;33m\u001b[0m\u001b[1;33m\u001b[0m\u001b[0m\n\u001b[0;32m      7\u001b[0m \u001b[1;33m\u001b[0m\u001b[0m\n",
      "\u001b[1;31mValueError\u001b[0m: invalid literal for int() with base 10: 'Number of Points in Waveform'"
     ]
    }
   ],
   "source": [
    "# create time vector in seconds for primary\n",
    "# t_primary = np.array(list(range(num_points)))\n",
    "# t_primary = t_primary/((num_points-1)/time_length)\n",
    "\n",
    "t = np.array(list(range(int(num_points.value))))\n",
    "t = t/((int(num_points.value)-1)/int(time_length.value))\n",
    "\n",
    "# create time vector in seconds for return\n",
    "# t_return = np.array(list(range(num_points)))\n",
    "# t_return = t_return/((num_points-1)/time_length)\n",
    "\n",
    "# create voltage vector v(t) for primary\n",
    "v_primary = -1/(1+np.exp(5-t))   # change this equation, ensuring v does not exceed amplitude\n",
    "v_primary = v_primary/int(amplitude.value)\n",
    "v_primary = np.round(v_primary, int(decimals.value))\n",
    "\n",
    "# create voltage vector v(t) for return\n",
    "v_return = 1/(1+np.exp(5-t))   # change this equation, ensuring v does not exceed amplitude\n",
    "v_return = v_return/int(amplitude.value)\n",
    "v_return = np.round(v_return, int(decimals.value))\n",
    "\n",
    "# check v for exceeding amplitude in either waveform\n",
    "if any(v_primary>1) or any(v_primary<-1):\n",
    "    print(v_primary)\n",
    "    raise ValueError(\"Voltage exceeds allowed amplitude\")\n",
    "\n",
    "if any(v_return>1) or any(v_return<-1):\n",
    "    print(v_return)\n",
    "    raise ValueError(\"Voltage exceeds allowed amplitude\")"
   ]
  },
  {
   "cell_type": "code",
   "execution_count": null,
   "metadata": {},
   "outputs": [],
   "source": [
    "# creating commands:\n",
    "\n",
    "# set frequency, amplitude command for primary\n",
    "freq_set_primary = f\":SOUR1:APPL:ARB {int(frequency.value)},{int(amplitude.value)}\"\n",
    "\n",
    "# set frequency, amplitude command for return\n",
    "freq_set_return = f\":SOUR1:APPL:ARB {int(frequency.value)},{int(amplitude.value)}\"\n",
    "\n",
    "# send waveform command for primary\n",
    "v_primary = v_primary.astype(str)\n",
    "pts_primary = \",\".join(v_primary)\n",
    "send_wave_primary = f\":SOUR1:DATA VOLATILE,{pts_primary}\"\n",
    "\n",
    "# send waveform command for return\n",
    "v_return = v_return.astype(str)\n",
    "pts_return = \",\".join(v_return)\n",
    "send_wave_return = f\":SOUR1:DATA VOLATILE,{pts_return}\"\n",
    "\n",
    "# turn on output\n",
    "on = \":OUTP1 ON\"\n",
    "\n",
    "print(freq_set_primary, '\\n\\n', send_wave_primary, \"\\n\\n\", on)\n",
    "print(freq_set_return, '\\n\\n', send_wave_return, \"\\n\\n\", on)"
   ]
  },
  {
   "cell_type": "code",
   "execution_count": null,
   "metadata": {},
   "outputs": [],
   "source": [
    "#load in the primary waveform\n",
    "# trigger_descending_wave(5000,10,5)"
   ]
  },
  {
   "cell_type": "code",
   "execution_count": null,
   "metadata": {},
   "outputs": [],
   "source": [
    "#load in the return waveform\n",
    "# trigger_ascending_wave(5000,10,0)"
   ]
  },
  {
   "cell_type": "code",
   "execution_count": null,
   "metadata": {},
   "outputs": [],
   "source": [
    "# rigol.write(\":SOUR1:BURST OFF\")"
   ]
  },
  {
   "cell_type": "code",
   "execution_count": null,
   "metadata": {},
   "outputs": [],
   "source": [
    "# rigol.write(\"OUTP1 ON\")"
   ]
  },
  {
   "cell_type": "code",
   "execution_count": null,
   "metadata": {},
   "outputs": [],
   "source": [
    "# initialize_bottom(5000,10,0)"
   ]
  },
  {
   "cell_type": "code",
   "execution_count": null,
   "metadata": {},
   "outputs": [],
   "source": [
    "#UI Buttons\n",
    "initialize_waveform = wg.Button(\n",
    "    description='Initialize Waveform',\n",
    "    disabled=False,\n",
    "    button_style='success', # 'success', 'info', 'warning', 'danger' or ''\n",
    "    tooltip='This will initialize the waveform to zero volts in preparation for an ascending waveform',\n",
    "    icon='check' # (FontAwesome names without the `fa-` prefix)\n",
    ")\n",
    "display(initialize_waveform)\n",
    "initialize_waveform.on_click(initialize_bottom)\n",
    "\n",
    "ascending_waveform = wg.Button(\n",
    "    description='Ascending Waveform',\n",
    "    disabled=False,\n",
    "    button_style='success', # 'success', 'info', 'warning', 'danger' or ''\n",
    "    tooltip='This will trigger the ascending waveform',\n",
    "    icon='check' # (FontAwesome names without the `fa-` prefix)\n",
    ")\n",
    "display(ascending_waveform)\n",
    "ascending_waveform.on_click(trigger_ascending_wave)\n",
    "\n",
    "descending_waveform = wg.Button(\n",
    "    description='Descending Waveform',\n",
    "    disabled=False,\n",
    "    button_style='success', # 'success', 'info', 'warning', 'danger' or ''\n",
    "    tooltip='This will trigger the descending waveform',\n",
    "    icon='check' # (FontAwesome names without the `fa-` prefix)\n",
    ")\n",
    "display(descending_waveform)\n",
    "descending_waveform.on_click(trigger_descending_wave)\n"
   ]
  },
  {
   "cell_type": "code",
   "execution_count": null,
   "metadata": {},
   "outputs": [],
   "source": [
    "initialize_waveform = wg.Button(\n",
    "    description='Initialize Waveform',\n",
    "    disabled=False,\n",
    "    button_style='success', # 'success', 'info', 'warning', 'danger' or ''\n",
    "    tooltip='This will initialize the waveform to zero volts in preparation for an ascending waveform',\n",
    "    icon='check' # (FontAwesome names without the `fa-` prefix)\n",
    ")\n",
    "display(initialize_waveform)\n",
    "initialize_waveform.on_click(initialize_bottom)"
   ]
  },
  {
   "cell_type": "code",
   "execution_count": null,
   "metadata": {},
   "outputs": [],
   "source": [
    "rigol.query(':SOUR1:BURST:IDLE?')"
   ]
  },
  {
   "cell_type": "code",
   "execution_count": null,
   "metadata": {},
   "outputs": [],
   "source": []
  }
 ],
 "metadata": {
  "kernelspec": {
   "display_name": "Python 3",
   "language": "python",
   "name": "python3"
  },
  "language_info": {
   "codemirror_mode": {
    "name": "ipython",
    "version": 3
   },
   "file_extension": ".py",
   "mimetype": "text/x-python",
   "name": "python",
   "nbconvert_exporter": "python",
   "pygments_lexer": "ipython3",
   "version": "3.8.5"
  }
 },
 "nbformat": 4,
 "nbformat_minor": 4
}
